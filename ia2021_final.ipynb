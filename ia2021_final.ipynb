{
  "nbformat": 4,
  "nbformat_minor": 0,
  "metadata": {
    "colab": {
      "name": "ia2021_final.ipynb",
      "provenance": [],
      "collapsed_sections": [
        "zcq36ygq7xIK"
      ]
    },
    "kernelspec": {
      "name": "python3",
      "display_name": "Python 3"
    },
    "language_info": {
      "name": "python"
    }
  },
  "cells": [
    {
      "cell_type": "markdown",
      "metadata": {
        "id": "zcq36ygq7xIK"
      },
      "source": [
        "# Instalando o **NLT**"
      ]
    },
    {
      "cell_type": "code",
      "metadata": {
        "colab": {
          "base_uri": "https://localhost:8080/"
        },
        "id": "cqNDJZs41Dsv",
        "outputId": "610f1934-0ac1-4137-cb3c-c124c0b5a028"
      },
      "source": [
        "from google.colab import drive\n",
        "drive.mount('/content/gdrive')"
      ],
      "execution_count": null,
      "outputs": [
        {
          "output_type": "stream",
          "text": [
            "Mounted at /content/gdrive\n"
          ],
          "name": "stdout"
        }
      ]
    },
    {
      "cell_type": "code",
      "metadata": {
        "id": "4FEUlDN358GK"
      },
      "source": [
        "# %cd gdrive/My Drive/UFAM/IA\n",
        "# entre na pasta em que vai baixar o ltn e faça o clone do repositório\n",
        "# ! git clone https://github.com/logictensornetworks/logictensornetworks.git\n",
        "# copie o arquivo setup.py para a pasta logictensornetworks, copie essa pasta para a raiz e delete o resto\n",
        "# ! pip3 install -e logictensornetworks/\n",
        "# instale o ltn "
      ],
      "execution_count": null,
      "outputs": []
    },
    {
      "cell_type": "code",
      "metadata": {
        "colab": {
          "base_uri": "https://localhost:8080/"
        },
        "id": "vAm8Nxnn5kQ2",
        "outputId": "f51d9303-3b37-4b0e-988b-41dc163040c5"
      },
      "source": [
        "%cd gdrive/My Drive/UFAM/IA\n",
        "! ls"
      ],
      "execution_count": null,
      "outputs": [
        {
          "output_type": "stream",
          "text": [
            "/content/gdrive/My Drive/UFAM/IA\n",
            "logictensornetworks  t_final.ipynb  trains-transformed.csv\n"
          ],
          "name": "stdout"
        }
      ]
    },
    {
      "cell_type": "code",
      "metadata": {
        "colab": {
          "base_uri": "https://localhost:8080/"
        },
        "id": "L_gFIW7p6b7e",
        "outputId": "4d95ac52-436c-4b56-de15-96891549bd42"
      },
      "source": [
        "! pip3 install -e logictensornetworks/"
      ],
      "execution_count": null,
      "outputs": [
        {
          "output_type": "stream",
          "text": [
            "Obtaining file:///content/gdrive/My%20Drive/UFAM/IA/logictensornetworks\n",
            "Requirement already satisfied: tensorflow>=2.2.0 in /usr/local/lib/python3.7/dist-packages (from logictensornetworks==0.1) (2.5.0)\n",
            "Requirement already satisfied: tensorboard~=2.5 in /usr/local/lib/python3.7/dist-packages (from tensorflow>=2.2.0->logictensornetworks==0.1) (2.5.0)\n",
            "Requirement already satisfied: typing-extensions~=3.7.4 in /usr/local/lib/python3.7/dist-packages (from tensorflow>=2.2.0->logictensornetworks==0.1) (3.7.4.3)\n",
            "Requirement already satisfied: wrapt~=1.12.1 in /usr/local/lib/python3.7/dist-packages (from tensorflow>=2.2.0->logictensornetworks==0.1) (1.12.1)\n",
            "Requirement already satisfied: h5py~=3.1.0 in /usr/local/lib/python3.7/dist-packages (from tensorflow>=2.2.0->logictensornetworks==0.1) (3.1.0)\n",
            "Requirement already satisfied: six~=1.15.0 in /usr/local/lib/python3.7/dist-packages (from tensorflow>=2.2.0->logictensornetworks==0.1) (1.15.0)\n",
            "Requirement already satisfied: keras-preprocessing~=1.1.2 in /usr/local/lib/python3.7/dist-packages (from tensorflow>=2.2.0->logictensornetworks==0.1) (1.1.2)\n",
            "Requirement already satisfied: termcolor~=1.1.0 in /usr/local/lib/python3.7/dist-packages (from tensorflow>=2.2.0->logictensornetworks==0.1) (1.1.0)\n",
            "Requirement already satisfied: absl-py~=0.10 in /usr/local/lib/python3.7/dist-packages (from tensorflow>=2.2.0->logictensornetworks==0.1) (0.12.0)\n",
            "Requirement already satisfied: gast==0.4.0 in /usr/local/lib/python3.7/dist-packages (from tensorflow>=2.2.0->logictensornetworks==0.1) (0.4.0)\n",
            "Requirement already satisfied: google-pasta~=0.2 in /usr/local/lib/python3.7/dist-packages (from tensorflow>=2.2.0->logictensornetworks==0.1) (0.2.0)\n",
            "Requirement already satisfied: numpy~=1.19.2 in /usr/local/lib/python3.7/dist-packages (from tensorflow>=2.2.0->logictensornetworks==0.1) (1.19.5)\n",
            "Requirement already satisfied: protobuf>=3.9.2 in /usr/local/lib/python3.7/dist-packages (from tensorflow>=2.2.0->logictensornetworks==0.1) (3.17.3)\n",
            "Requirement already satisfied: wheel~=0.35 in /usr/local/lib/python3.7/dist-packages (from tensorflow>=2.2.0->logictensornetworks==0.1) (0.36.2)\n",
            "Requirement already satisfied: opt-einsum~=3.3.0 in /usr/local/lib/python3.7/dist-packages (from tensorflow>=2.2.0->logictensornetworks==0.1) (3.3.0)\n",
            "Requirement already satisfied: flatbuffers~=1.12.0 in /usr/local/lib/python3.7/dist-packages (from tensorflow>=2.2.0->logictensornetworks==0.1) (1.12)\n",
            "Requirement already satisfied: astunparse~=1.6.3 in /usr/local/lib/python3.7/dist-packages (from tensorflow>=2.2.0->logictensornetworks==0.1) (1.6.3)\n",
            "Requirement already satisfied: grpcio~=1.34.0 in /usr/local/lib/python3.7/dist-packages (from tensorflow>=2.2.0->logictensornetworks==0.1) (1.34.1)\n",
            "Requirement already satisfied: tensorflow-estimator<2.6.0,>=2.5.0rc0 in /usr/local/lib/python3.7/dist-packages (from tensorflow>=2.2.0->logictensornetworks==0.1) (2.5.0)\n",
            "Requirement already satisfied: keras-nightly~=2.5.0.dev in /usr/local/lib/python3.7/dist-packages (from tensorflow>=2.2.0->logictensornetworks==0.1) (2.5.0.dev2021032900)\n",
            "Requirement already satisfied: markdown>=2.6.8 in /usr/local/lib/python3.7/dist-packages (from tensorboard~=2.5->tensorflow>=2.2.0->logictensornetworks==0.1) (3.3.4)\n",
            "Requirement already satisfied: tensorboard-plugin-wit>=1.6.0 in /usr/local/lib/python3.7/dist-packages (from tensorboard~=2.5->tensorflow>=2.2.0->logictensornetworks==0.1) (1.8.0)\n",
            "Requirement already satisfied: setuptools>=41.0.0 in /usr/local/lib/python3.7/dist-packages (from tensorboard~=2.5->tensorflow>=2.2.0->logictensornetworks==0.1) (57.0.0)\n",
            "Requirement already satisfied: requests<3,>=2.21.0 in /usr/local/lib/python3.7/dist-packages (from tensorboard~=2.5->tensorflow>=2.2.0->logictensornetworks==0.1) (2.23.0)\n",
            "Requirement already satisfied: google-auth-oauthlib<0.5,>=0.4.1 in /usr/local/lib/python3.7/dist-packages (from tensorboard~=2.5->tensorflow>=2.2.0->logictensornetworks==0.1) (0.4.4)\n",
            "Requirement already satisfied: google-auth<2,>=1.6.3 in /usr/local/lib/python3.7/dist-packages (from tensorboard~=2.5->tensorflow>=2.2.0->logictensornetworks==0.1) (1.32.1)\n",
            "Requirement already satisfied: tensorboard-data-server<0.7.0,>=0.6.0 in /usr/local/lib/python3.7/dist-packages (from tensorboard~=2.5->tensorflow>=2.2.0->logictensornetworks==0.1) (0.6.1)\n",
            "Requirement already satisfied: werkzeug>=0.11.15 in /usr/local/lib/python3.7/dist-packages (from tensorboard~=2.5->tensorflow>=2.2.0->logictensornetworks==0.1) (1.0.1)\n",
            "Requirement already satisfied: cached-property; python_version < \"3.8\" in /usr/local/lib/python3.7/dist-packages (from h5py~=3.1.0->tensorflow>=2.2.0->logictensornetworks==0.1) (1.5.2)\n",
            "Requirement already satisfied: importlib-metadata; python_version < \"3.8\" in /usr/local/lib/python3.7/dist-packages (from markdown>=2.6.8->tensorboard~=2.5->tensorflow>=2.2.0->logictensornetworks==0.1) (4.6.0)\n",
            "Requirement already satisfied: urllib3!=1.25.0,!=1.25.1,<1.26,>=1.21.1 in /usr/local/lib/python3.7/dist-packages (from requests<3,>=2.21.0->tensorboard~=2.5->tensorflow>=2.2.0->logictensornetworks==0.1) (1.24.3)\n",
            "Requirement already satisfied: idna<3,>=2.5 in /usr/local/lib/python3.7/dist-packages (from requests<3,>=2.21.0->tensorboard~=2.5->tensorflow>=2.2.0->logictensornetworks==0.1) (2.10)\n",
            "Requirement already satisfied: certifi>=2017.4.17 in /usr/local/lib/python3.7/dist-packages (from requests<3,>=2.21.0->tensorboard~=2.5->tensorflow>=2.2.0->logictensornetworks==0.1) (2021.5.30)\n",
            "Requirement already satisfied: chardet<4,>=3.0.2 in /usr/local/lib/python3.7/dist-packages (from requests<3,>=2.21.0->tensorboard~=2.5->tensorflow>=2.2.0->logictensornetworks==0.1) (3.0.4)\n",
            "Requirement already satisfied: requests-oauthlib>=0.7.0 in /usr/local/lib/python3.7/dist-packages (from google-auth-oauthlib<0.5,>=0.4.1->tensorboard~=2.5->tensorflow>=2.2.0->logictensornetworks==0.1) (1.3.0)\n",
            "Requirement already satisfied: pyasn1-modules>=0.2.1 in /usr/local/lib/python3.7/dist-packages (from google-auth<2,>=1.6.3->tensorboard~=2.5->tensorflow>=2.2.0->logictensornetworks==0.1) (0.2.8)\n",
            "Requirement already satisfied: cachetools<5.0,>=2.0.0 in /usr/local/lib/python3.7/dist-packages (from google-auth<2,>=1.6.3->tensorboard~=2.5->tensorflow>=2.2.0->logictensornetworks==0.1) (4.2.2)\n",
            "Requirement already satisfied: rsa<5,>=3.1.4; python_version >= \"3.6\" in /usr/local/lib/python3.7/dist-packages (from google-auth<2,>=1.6.3->tensorboard~=2.5->tensorflow>=2.2.0->logictensornetworks==0.1) (4.7.2)\n",
            "Requirement already satisfied: zipp>=0.5 in /usr/local/lib/python3.7/dist-packages (from importlib-metadata; python_version < \"3.8\"->markdown>=2.6.8->tensorboard~=2.5->tensorflow>=2.2.0->logictensornetworks==0.1) (3.4.1)\n",
            "Requirement already satisfied: oauthlib>=3.0.0 in /usr/local/lib/python3.7/dist-packages (from requests-oauthlib>=0.7.0->google-auth-oauthlib<0.5,>=0.4.1->tensorboard~=2.5->tensorflow>=2.2.0->logictensornetworks==0.1) (3.1.1)\n",
            "Requirement already satisfied: pyasn1<0.5.0,>=0.4.6 in /usr/local/lib/python3.7/dist-packages (from pyasn1-modules>=0.2.1->google-auth<2,>=1.6.3->tensorboard~=2.5->tensorflow>=2.2.0->logictensornetworks==0.1) (0.4.8)\n",
            "Installing collected packages: logictensornetworks\n",
            "  Running setup.py develop for logictensornetworks\n",
            "Successfully installed logictensornetworks\n"
          ],
          "name": "stdout"
        }
      ]
    },
    {
      "cell_type": "markdown",
      "metadata": {
        "id": "f8NY1zjE8ORs"
      },
      "source": [
        "# Gerando as regras do exemplo do trem"
      ]
    },
    {
      "cell_type": "code",
      "metadata": {
        "id": "gHwxXIZz8T7u"
      },
      "source": [
        "import logictensornetworks as ltn\n",
        "import tensorflow as tf\n",
        "import numpy as np"
      ],
      "execution_count": null,
      "outputs": []
    },
    {
      "cell_type": "markdown",
      "metadata": {
        "id": "55n3N-_YWoYz"
      },
      "source": [
        "• num_cars(t,nc) onde o numero de vagoes é nc ∈ [3..5] em um trem t ∈ [1..10]\n",
        "\n",
        "num_cars(t,nc) = [('t1',5),('t2',4),('t3',4),('t4',5),('t5',4),('t6',3),('t7',4),('t8',3),('t9',5),('t10',3)]\n",
        "\n",
        "• num_loads(t,nl) onde a quantidade de carga é ́nl ∈ [1..4] em um trem t ∈ [1..10]\n",
        "\n",
        "num_loads(t,nl) = [('t1',4),('t2',3),('t3',2),('t4',2),('t5',3),('t6',2),('t7',2),('t8',2),('t9',2),('t10',1)]\n",
        "\n",
        "• num_wheels(t,c,w) onde o numero de rodas é ∈ {2,3} em um vagao c ∈ [1..4] de um trem t ∈ [1..10]\n",
        "\n",
        "num_wheels(t,c,w) = [('t1',1,2),('t1',2,2),('t1',3,3),('t1',4,2),\n",
        "\t\t     ('t2',1,2),('t2',2,2),('t2',3,2),\n",
        "\t\t     ('t3',1,2),('t3',2,2),('t3',3,3),\n",
        "\t\t     ('t4',1,2),('t4',2,2),('t4',3,2),('t4',4,2),\n",
        "\t\t     ('t5',1,2),('t5',2,3),('t5',3,2),\n",
        "\t\t     ('t6',1,2),('t6',2,2),\n",
        "\t\t     ('t7',1,2),('t7',2,2),('t7',3,2),\n",
        "\t\t     ('t8',1,3),('t8',2,2),\n",
        "\t \t     ('t9',1,2),('t9',2,2),('t9',3,2),('t9',4,2),\n",
        "\t\t     ('t10',1,2),('t10',2,2)]\n",
        "\n",
        "• length(t,c,l) onde o comprimento do vagao é l ∈ {-1,1}^6 em um vagao c ∈ [1..4] de um trem t ∈ [1..10]\n",
        "\n",
        "lenght(t,c,l) = [('t1',1,L),('t1',2,S),('t1',3,L),('t1',4,S),\n",
        "\t\t ('t2',1,S),('t2',2,S),('t2',3,S),\n",
        "\t\t ('t3',1,S),('t3',2,S),('t3',3,L),\n",
        "\t\t ('t4',1,S),('t4',2,S),('t4',3,S),('t4',4,S),\n",
        "\t\t ('t5',1,S),('t5',2,L),('t5',3,S),\n",
        "\t\t ('t6',1,L),('t6',2,S),\n",
        "\t\t ('t7',1,S),('t7',2,S),('t7',3,L),\n",
        "\t\t ('t8',1,L),('t8',2,S),\n",
        "\t \t ('t9',1,S),('t9',2,L),('t9',3,S),('t9',4,S),\n",
        "\t\t ('t10',1,S),('t10',2,L)]\n",
        "\n",
        "• shape(t,c,s) onde o formato do vagao é s ∈ [1..10]^7 em um vagao c ∈ [1..4] de um trem t ∈ [1..10]\n",
        "\n",
        "shape(t,c,s) = [('t1',1,oprect),('t1',2,slopetop),('t1',3,oprect),('t1',4,oprect),\n",
        "\t\t('t2',1,unshaped),('t2',2,optrap),('t2',3,closedrect),\n",
        "\t\t('t3',1,oprect),('t3',2,hexagon),('t3',3,closedrect),\n",
        "\t\t('t4',1,optrap),('t4',2,dblopnrect),('t4',3,ellipse),('t4',4,oprect),\n",
        "\t\t('t5',1,dblopnrect),('t5',2,closedrect),('t5',3,closedrect),\n",
        "\t\t('t6',1,closedrect),('t6',2,oprect),\n",
        "\t\t('t7',1,dblopnrect),('t7',2,ushaped),('t7',3,jaggedtop),\n",
        "\t\t('t8',1,closedrect),('t8',2,ushaped),\n",
        "\t \t('t9',1,optrap),('t9',2,jaggedtop),('t9',3,oprect),('t9',4,optrap),\n",
        "\t\t('t10',1,usahped),('t10',2,oprect)]\n",
        "\n",
        "• num_car_loads(t,c,ncl) onde o numero de cargas do vagao é ncl ∈ [0..3] em um vagao c ∈ [1..4] de um trem t ∈ [1..10]\n",
        "\n",
        "num_car_loads(t,c,ncl) = [('t1',1,3),('t1',2,1),('t1',3,1),('t1',4,1),\n",
        "\t\t          ('t2',1,1),('t2',2,1),('t2',3,2),\n",
        "\t\t          ('t3',1,1),('t3',2,1),('t3',3,1),\n",
        "\t\t          ('t4',1,1),('t4',2,1),('t4',3,1),('t4',4,1),\n",
        "\t\t          ('t5',1,1),('t5',2,1),('t5',3,1),\n",
        "\t       \t          ('t6',1,3),('t6',2,1),\n",
        "\t\t          ('t7',1,1),('t7',2,1),('t7',3,0),\n",
        "\t\t          ('t8',1,1),('t8',2,1),\n",
        "\t \t          ('t9',1,1),('t9',2,1),('t9',3,1),('t9',4,1),\n",
        "\t\t          ('t10',1,1),('t10',2,2)]\n",
        "\n",
        "• load_shape(t,c,ls) onde o formato da carga é ls ∈ [1..4] em um vagao c ∈ [1..4] de um trem t ∈ [1..10]\n",
        "\n",
        "load_shape(t,c,ls) = [('t1',1,rectanglod),('t1',2,trianglod),('t1',3,hexagonlod),('t1',4,circlelod),\n",
        "\t\t      ('t2',1,trianglod),('t2',2,rectanglod),('t2',3,circlelod),\n",
        "\t\t      ('t3',1,circlelod),('t3',2,trianglod),('t3',3,trianglod),\n",
        "\t\t      ('t4',1,trianglod),('t4',2,trianglod),('t4',3,rectanglod),('t4',4,rectanglod),\n",
        "\t\t      ('t5',1,trianglod),('t5',2,rectanglod),('t5',3,ciclelod),\n",
        "\t\t      ('t6',1,circlelod),('t6',2,trianglod),\n",
        "\t\t      ('t7',1,circlelod),('t7',2,trianglod),('t7',3,none),\n",
        "\t\t      ('t8',1,rectanglod),('t8',2,circlelod),\n",
        "\t \t      ('t9',1,circlelod),('t9',2,rectanglod),('t9',3,rectanglod),('t9',4,circlelod),\n",
        "\t\t      ('t10',1,rectanglod),('t10',2,rectanglod)]\n",
        "\n",
        "• next_crc(t,c,x) o vagao c ∈ [1..4] de um trem t ∈ [1..10] esta adjacente a um vagao com carga circular x ∈ {0,1}^8\n",
        "\n",
        "next_crc(t,c,x) = [('t1',1,false),('t1',2,true),('t1',3,false),('t1',4,false),\n",
        "\t\t   ('t2',1,false),('t2',2,true),('t2',3,false),\n",
        "\t\t   ('t3',1,false),('t3',2,true),('t3',3,false),\n",
        "\t\t   ('t4',1,false),('t4',2,false),('t4',3,),('t4',4,false),\n",
        "\t\t   ('t5',1,false),('t5',2,true),('t5',3,false),\n",
        "\t\t   ('t6',1,true),('t6',2,false),\n",
        "\t\t   ('t7',1,false),('t7',2,true),('t7',3,false),\n",
        "\t\t   ('t8',1,false),('t8',2,true),\n",
        "\t \t   ('t9',1,false),('t9',2,true),('t9',3,true),('t9',4,false),\n",
        "\t\t   ('t10',1,false),('t10',2,false)]\n",
        "\n",
        "• next_hex(t,c,x) o vagao c ∈ [1..4] de um trem t ∈ [1..10] esta adjacente a um vagao com carga hexagonal x ∈ {0,1}^8\n",
        "\n",
        "next_hex(t,c,x) = [('t1',1,true),('t1',2,false),('t1',3,true),('t1',4,false),\n",
        "\t\t   ('t2',1,false),('t2',2,false),('t2',3,false),\n",
        "\t\t   ('t3',1,false),('t3',2,false),('t3',3,false),\n",
        "\t\t   ('t4',1,false),('t4',2,false),('t4',3,false),('t4',4,false),\n",
        "\t\t   ('t5',1,false),('t5',2,false),('t5',3,false),\n",
        "\t\t   ('t6',1,false),('t6',2,false),\n",
        "\t\t   ('t7',1,false),('t7',2,false),('t7',3,false),\n",
        "\t\t   ('t8',1,false),('t8',2,false),\n",
        "\t \t   ('t9',1,false),('t9',2,false),('t9',3,false),('t9',4,false),\n",
        "\t\t   ('t10',1,false),('t10',2,false)]\n",
        "\n",
        "• next_rec(t,c,x) o vagao c ∈ [1..4] de um trem t ∈ [1..10] esta adjacente a um vagao com carga retangular x ∈ {0,1}^8\n",
        "\n",
        "next_rec(t,c,x) = [('t1',1,false),('t1',2,false),('t1',3,true),('t1',4,false),\n",
        "\t\t   ('t2',1,true),('t2',2,false),('t2',3,true),\n",
        "\t\t   ('t3',1,false),('t3',2,false),('t3',3,false),\n",
        "\t\t   ('t4',1,true),('t4',2,true),('t4',3,false),('t4',4,false),\n",
        "\t\t   ('t5',1,true),('t5',2,false),('t5',3,true),\n",
        "\t\t   ('t6',1,false),('t6',2,false),\n",
        "\t\t   ('t7',1,false),('t7',2,false),('t7',3,false),\n",
        "\t\t   ('t8',1,true),('t8',2,false),\n",
        "\t \t   ('t9',1,true),('t9',2,true),('t9',3,true),('t9',4,true),\n",
        "\t\t   ('t10',1,true),('t10',2,true)]\n",
        "\n",
        "• next_tri(t,c,x) o vagao c ∈ [1..4] de um trem t ∈ [1..10] esta adjacente a um vagao com carga triangular x ∈ {0,1}^8\n",
        "\n",
        "next_tri(t,c,x) = [('t1',1,false),('t1',2,true),('t1',3,false),('t1',4,true),\n",
        "\t\t   ('t2',1,false),('t2',2,true),('t2',3,false),\n",
        "\t\t   ('t3',1,true),('t3',2,true),('t3',3,true),\n",
        "\t\t   ('t4',1,false),('t4',2,true),('t4',3,true),('t4',4,true),\n",
        "\t\t   ('t5',1,false),('t5',2,true),('t5',3,false),\n",
        "\t\t   ('t6',1,false),('t6',2,true),\n",
        "\t\t   ('t7',1,true),('t7',2,false),('t7',3,true),\n",
        "\t\t   ('t8',1,false),('t8',2,false),\n",
        "\t \t   ('t9',1,false),('t9',2,false),('t9',3,false),('t9',4,false),\n",
        "\t\t   ('t10',1,false),('t10',2,false)]"
      ]
    },
    {
      "cell_type": "code",
      "metadata": {
        "id": "KCyolG4s-X_s"
      },
      "source": [
        "nt = 10 # no de trens\n",
        "ncs = 2 # no de classes"
      ],
      "execution_count": null,
      "outputs": []
    },
    {
      "cell_type": "code",
      "metadata": {
        "id": "Z624aDPdOYhG"
      },
      "source": [
        "#DATA\n",
        "\n",
        "#predicates\n",
        "num_cars      = [('t1',5),('t2',4),('t3',4),('t4',5),('t5',4),('t6',3),('t7',4),('t8',3),('t9',5),('t10',3)]\n",
        "num_loads     = [('t1',4),('t2',3),('t3',2),('t4',2),('t5',3),('t6',2),('t7',2),('t8',2),('t9',2),('t10',1)]\n",
        "num_wheels    = [('t1',1,2),('t1',2,2),('t1',3,3),('t1',4,2), ('t2',1,2),('t2',2,2),('t2',3,2), ('t3',1,2),\n",
        "                 ('t3',2,2),('t3',3,3), ('t4',1,2),('t4',2,2),('t4',3,2),('t4',4,2), ('t5',1,2),('t5',2,3),\n",
        "                 ('t5',3,2), ('t6',1,2),('t6',2,2), ('t7',1,2),('t7',2,2),('t7',3,2), ('t8',1,3),('t8',2,2),\n",
        "                 ('t9',1,2),('t9',2,2),('t9',3,2),('t9',4,2), ('t10',1,2),('t10',2,2)]\n",
        "# short: 0, Long: 1\n",
        "lenght        = [('t1',1,1),('t1',2,0),('t1',3,1),('t1',4,0), ('t2',1,0),('t2',2,0),('t2',3,0),('t3',1,0),\n",
        "                 ('t3',2,0),('t3',3,1),('t4',1,0),('t4',2,0),('t4',3,0),('t4',4,0),('t5',1,-0,('t5',2,1),\n",
        "                 ('t5',3,0), ('t6',1,1),('t6',2,0),('t7',1,0),('t7',2,0),('t7',3,1),('t8',1,1),('t8',2,0),\n",
        "                 ('t9',1,0),('t9',2,1),('t9',3,0),('t9',4,0),('t10',1,0),('t10',2,1)]\n",
        "# closedrect = 0 {closed}, dblopnrect = 1 {open}, ellipse = 2 {closed}, ushaped = 3 {open}, hexagon = 4 {closed}, \n",
        "# jaggedtop = 5 {closed}, openrect = 6 {open}, opentrap = 7 {open}, slopetop = 8 {closed}\n",
        "shape         = [('t1',1,6),('t1',2,8),('t1',3,6),('t1',4,6),('t2',1,3),('t2',2,7),('t2',3,0), ('t3',1,6),\n",
        "                 ('t3',2,4),('t3',3,0),('t4',1,7),('t4',2,1),('t4',3,2),('t4',4,6),('t5',1,1),('t5',2,0),\n",
        "                 ('t5',3,0),('t6',1,0),('t6',2,6),('t7',1,1),('t7',2,9),('t7',3,5),('t8',1,0),('t8',2,9),\n",
        "                 ('t9',1,7),('t9',2,5),('t9',3,6),('t9',4,7),('t10',1,3),('t10',2,6)]\n",
        "num_car_loads = [('t1',1,3),('t1',2,1),('t1',3,1),('t1',4,1), ('t2',1,1),('t2',2,1),('t2',3,2),('t3',1,1),\n",
        "                 ('t3',2,1),('t3',3,1),('t4',1,1),('t4',2,1),('t4',3,1),('t4',4,1),('t5',1,1),('t5',2,1),\n",
        "                 ('t5',3,1),('t6',1,3),('t6',2,1),('t7',1,1),('t7',2,1),('t7',3,0),('t8',1,1),('t8',2,1),\n",
        "                 ('t9',1,1),('t9',2,1),('t9',3,1),('t9',4,1),('t10',1,1),('t10',2,2)]\n",
        "# circlelod = 0, hexagonlod = 1, rectanglod = 2, trianglod = 3\n",
        "load_shape    = [('t1',1,2),('t1',2,3),('t1',3,1),('t1',4,0), ('t2',1,3),('t2',2,2),('t2',3,0),('t3',1,0),\n",
        "                 ('t3',2,3),('t3',3,3),('t4',1,3),('t4',2,3),('t4',3,2),('t4',4,2),('t5',1,3),('t5',2,2),\n",
        "                 ('t5',3,0), ('t6',1,0),('t6',2,3), ('t7',1,0),('t7',2,3),('t8',1,2),('t8',2,0),('t9',1,0),\n",
        "                 ('t9',2,2),('t9',3,2),('t9',4,0),('t10',1,2),('t10',2,2)]\n",
        "# True = 1, Falso  = 0\n",
        "next_crc      = [('t1',1,0),('t1',2,1),('t1',3,0),('t1',4,0), ('t2',1,0),('t2',2,1),('t2',3,0),('t3',1,0),\n",
        "                 ('t3',2,1),('t3',3,0), ('t4',1,0),('t4',2,0),('t4',3,0),('t4',4,0), ('t5',1,0),('t5',2,1),\n",
        "                 ('t5',3,0), ('t6',1,1),('t6',2,0),('t7',1,0),('t7',2,1),('t7',3,0), ('t8',1,0),('t8',2,1),\n",
        "                 ('t9',1,0),('t9',2,1),('t9',3,1),('t9',4,0),('t10',1,0),('t10',2,0)]\n",
        "next_hex      = [('t1',1,1),('t1',2,0),('t1',3,1),('t1',4,0),('t2',1,0),('t2',2,0),('t2',3,0),('t3',1,0),\n",
        "                 ('t3',2,0),('t3',3,0),('t4',1,0),('t4',2,0),('t4',3,0),('t4',4,0),('t5',1,0),('t5',2,0),\n",
        "                 ('t5',3,0),('t6',1,0),('t6',2,0),('t7',1,0),('t7',2,0),('t7',3,0),('t8',1,0),('t8',2,0),\n",
        "                 ('t9',1,0),('t9',2,0),('t9',3,0),('t9',4,0),('t10',1,0),('t10',2,0)]\n",
        "next_rec      = [('t1',1,0),('t1',2,0),('t1',3,1),('t1',4,0), ('t2',1,1),('t2',2,0),('t2',3,1),('t3',1,0),\n",
        "                 ('t3',2,0),('t3',3,0), ('t4',1,1),('t4',2,1),('t4',3,0),('t4',4,0),('t5',1,1),('t5',2,0),\n",
        "                 ('t5',3,1), ('t6',1,0),('t6',2,0),('t7',1,0),('t7',2,0),('t7',3,0),('t8',1,1),('t8',2,0),\n",
        "                 ('t9',1,1),('t9',2,1),('t9',3,1),('t9',4,1),('t10',1,1),('t10',2,1)]\n",
        "next_tri      = [('t1',1,0),('t1',2,1),('t1',3,0),('t1',4,1), ('t2',1,0),('t2',2,1),('t2',3,0),('t3',1,1),\n",
        "                 ('t3',2,1),('t3',3,1), ('t4',1,0),('t4',2,1),('t4',3,1),('t4',4,1),('t5',1,0),('t5',2,1),\n",
        "                 ('t5',3,0), ('t6',1,0),('t6',2,1), ('t7',1,1),('t7',2,0),('t7',3,1),('t8',1,0),('t8',2,0),\n",
        "                 ('t9',1,0),('t9',2,0),('t9',3,0),('t9',4,0), ('t10',1,0),('t10',2,0)]\n",
        "\n",
        "train_class   = [('t1','leste'),('t2','leste'),('t3','leste'),('t4','leste'),('t5','leste'),('t6','oeste'),\n",
        "                 ('t7','oeste'),('t8','oeste'),('t9','oeste'),('t10','oeste')]\n",
        "                 \n",
        "#atoms\n",
        "train = ['t1','t2','t3','t4','t5','t6','t7','t8','t9','t10']\n",
        "class_name = ['leste','oeste']"
      ],
      "execution_count": null,
      "outputs": []
    },
    {
      "cell_type": "code",
      "metadata": {
        "id": "_BQ16waYax46"
      },
      "source": [
        "g1 = {l:ltn.constant(np.random.uniform(low=0.0,high=1.0,size=nt),trainable=True) for l in train}\n",
        "g2 = {l:ltn.constant(np.random.uniform(low=0.0,high=1.0,size=ncs),trainable=True) for l in class_name}\n",
        "g = {**g1,**g2}"
      ],
      "execution_count": null,
      "outputs": []
    },
    {
      "cell_type": "code",
      "metadata": {
        "id": "61qYu6g99wK-"
      },
      "source": [
        "Trains = ltn.Predicate.MLP([nt],hidden_layer_sizes=(8,8))\n",
        "Trains_classes = ltn.Predicate.MLP([nt,ncs],hidden_layer_sizes=(8,8))\n",
        "Class_names = ltn.Predicate.MLP([ncs],hidden_layer_sizes=(8,8))"
      ],
      "execution_count": null,
      "outputs": []
    },
    {
      "cell_type": "code",
      "metadata": {
        "id": "B9hsyocD_JFW"
      },
      "source": [
        "Not = ltn.Wrapper_Connective(ltn.fuzzy_ops.Not_Std())\n",
        "And = ltn.Wrapper_Connective(ltn.fuzzy_ops.And_Prod())\n",
        "Or = ltn.Wrapper_Connective(ltn.fuzzy_ops.Or_ProbSum())\n",
        "Implies = ltn.Wrapper_Connective(ltn.fuzzy_ops.Implies_Reichenbach())\n",
        "Forall = ltn.Wrapper_Quantifier(ltn.fuzzy_ops.Aggreg_pMeanError(p=2),semantics=\"forall\")\n",
        "Exists = ltn.Wrapper_Quantifier(ltn.fuzzy_ops.Aggreg_pMean(p=6),semantics=\"exists\")\n",
        "\n",
        "formula_aggregator = ltn.fuzzy_ops.Aggreg_pMeanError()"
      ],
      "execution_count": null,
      "outputs": []
    },
    {
      "cell_type": "code",
      "metadata": {
        "id": "A1HShS6X_WUC"
      },
      "source": [
        "# defining the theory\n",
        "@tf.function\n",
        "def axioms(p_exists):\n",
        "    \"\"\"\n",
        "    NOTE: we update the embeddings at each step\n",
        "        -> we should re-compute the variables.\n",
        "    \"\"\"\n",
        "    p = ltn.variable(\"p\",tf.stack(list(g.values())))\n",
        "    q = ltn.variable(\"q\",tf.stack(list(g.values())))\n",
        "    axioms = []\n",
        "\n",
        "    axioms.append(formula_aggregator(tf.stack(\n",
        "            [Trains_classes([g[x],g[y]]) for (x,y) in train_class])))\n",
        "    axioms.append(formula_aggregator(tf.stack(\n",
        "            [Not(Trains_classes([g[x],g[y]])) for x in g1 for y in g2 if (x,y) not in train_class ])))\n",
        "    \n",
        "    axioms.append(formula_aggregator(tf.stack(\n",
        "            [Trains(g[x]) for x in train])))\n",
        "    axioms.append(formula_aggregator(tf.stack(\n",
        "            [Not(Trains(g[x])) for x in g if x not in train])))\n",
        "    \n",
        "    axioms.append(formula_aggregator(tf.stack(\n",
        "            [Class_names(g[x]) for x in class_name])))\n",
        "    axioms.append(formula_aggregator(tf.stack(\n",
        "            [Not(Class_names(g[x])) for x in g1 if x not in class_name])))\n",
        "    \n",
        "    axioms = tf.stack([tf.squeeze(ax) for ax in axioms])\n",
        "    sat_level = formula_aggregator(axioms)\n",
        "    return sat_level, axioms"
      ],
      "execution_count": null,
      "outputs": []
    },
    {
      "cell_type": "code",
      "metadata": {
        "colab": {
          "base_uri": "https://localhost:8080/",
          "height": 732
        },
        "id": "A6KjYtkECM_G",
        "outputId": "f4c556b3-bb64-47b9-f1a6-f3eeb2f9b631"
      },
      "source": [
        "axioms(p_exists=tf.constant(1.))"
      ],
      "execution_count": null,
      "outputs": [
        {
          "output_type": "error",
          "ename": "ValueError",
          "evalue": "ignored",
          "traceback": [
            "\u001b[0;31m---------------------------------------------------------------------------\u001b[0m",
            "\u001b[0;31mValueError\u001b[0m                                Traceback (most recent call last)",
            "\u001b[0;32m<ipython-input-28-bb764134f60a>\u001b[0m in \u001b[0;36m<module>\u001b[0;34m()\u001b[0m\n\u001b[0;32m----> 1\u001b[0;31m \u001b[0maxioms\u001b[0m\u001b[0;34m(\u001b[0m\u001b[0mp_exists\u001b[0m\u001b[0;34m=\u001b[0m\u001b[0mtf\u001b[0m\u001b[0;34m.\u001b[0m\u001b[0mconstant\u001b[0m\u001b[0;34m(\u001b[0m\u001b[0;36m1.\u001b[0m\u001b[0;34m)\u001b[0m\u001b[0;34m)\u001b[0m\u001b[0;34m\u001b[0m\u001b[0;34m\u001b[0m\u001b[0m\n\u001b[0m",
            "\u001b[0;32m/usr/local/lib/python3.7/dist-packages/tensorflow/python/eager/def_function.py\u001b[0m in \u001b[0;36m__call__\u001b[0;34m(self, *args, **kwds)\u001b[0m\n\u001b[1;32m    887\u001b[0m \u001b[0;34m\u001b[0m\u001b[0m\n\u001b[1;32m    888\u001b[0m       \u001b[0;32mwith\u001b[0m \u001b[0mOptionalXlaContext\u001b[0m\u001b[0;34m(\u001b[0m\u001b[0mself\u001b[0m\u001b[0;34m.\u001b[0m\u001b[0m_jit_compile\u001b[0m\u001b[0;34m)\u001b[0m\u001b[0;34m:\u001b[0m\u001b[0;34m\u001b[0m\u001b[0;34m\u001b[0m\u001b[0m\n\u001b[0;32m--> 889\u001b[0;31m         \u001b[0mresult\u001b[0m \u001b[0;34m=\u001b[0m \u001b[0mself\u001b[0m\u001b[0;34m.\u001b[0m\u001b[0m_call\u001b[0m\u001b[0;34m(\u001b[0m\u001b[0;34m*\u001b[0m\u001b[0margs\u001b[0m\u001b[0;34m,\u001b[0m \u001b[0;34m**\u001b[0m\u001b[0mkwds\u001b[0m\u001b[0;34m)\u001b[0m\u001b[0;34m\u001b[0m\u001b[0;34m\u001b[0m\u001b[0m\n\u001b[0m\u001b[1;32m    890\u001b[0m \u001b[0;34m\u001b[0m\u001b[0m\n\u001b[1;32m    891\u001b[0m       \u001b[0mnew_tracing_count\u001b[0m \u001b[0;34m=\u001b[0m \u001b[0mself\u001b[0m\u001b[0;34m.\u001b[0m\u001b[0mexperimental_get_tracing_count\u001b[0m\u001b[0;34m(\u001b[0m\u001b[0;34m)\u001b[0m\u001b[0;34m\u001b[0m\u001b[0;34m\u001b[0m\u001b[0m\n",
            "\u001b[0;32m/usr/local/lib/python3.7/dist-packages/tensorflow/python/eager/def_function.py\u001b[0m in \u001b[0;36m_call\u001b[0;34m(self, *args, **kwds)\u001b[0m\n\u001b[1;32m    931\u001b[0m       \u001b[0;31m# This is the first call of __call__, so we have to initialize.\u001b[0m\u001b[0;34m\u001b[0m\u001b[0;34m\u001b[0m\u001b[0;34m\u001b[0m\u001b[0m\n\u001b[1;32m    932\u001b[0m       \u001b[0minitializers\u001b[0m \u001b[0;34m=\u001b[0m \u001b[0;34m[\u001b[0m\u001b[0;34m]\u001b[0m\u001b[0;34m\u001b[0m\u001b[0;34m\u001b[0m\u001b[0m\n\u001b[0;32m--> 933\u001b[0;31m       \u001b[0mself\u001b[0m\u001b[0;34m.\u001b[0m\u001b[0m_initialize\u001b[0m\u001b[0;34m(\u001b[0m\u001b[0margs\u001b[0m\u001b[0;34m,\u001b[0m \u001b[0mkwds\u001b[0m\u001b[0;34m,\u001b[0m \u001b[0madd_initializers_to\u001b[0m\u001b[0;34m=\u001b[0m\u001b[0minitializers\u001b[0m\u001b[0;34m)\u001b[0m\u001b[0;34m\u001b[0m\u001b[0;34m\u001b[0m\u001b[0m\n\u001b[0m\u001b[1;32m    934\u001b[0m     \u001b[0;32mfinally\u001b[0m\u001b[0;34m:\u001b[0m\u001b[0;34m\u001b[0m\u001b[0;34m\u001b[0m\u001b[0m\n\u001b[1;32m    935\u001b[0m       \u001b[0;31m# At this point we know that the initialization is complete (or less\u001b[0m\u001b[0;34m\u001b[0m\u001b[0;34m\u001b[0m\u001b[0;34m\u001b[0m\u001b[0m\n",
            "\u001b[0;32m/usr/local/lib/python3.7/dist-packages/tensorflow/python/eager/def_function.py\u001b[0m in \u001b[0;36m_initialize\u001b[0;34m(self, args, kwds, add_initializers_to)\u001b[0m\n\u001b[1;32m    762\u001b[0m     self._concrete_stateful_fn = (\n\u001b[1;32m    763\u001b[0m         self._stateful_fn._get_concrete_function_internal_garbage_collected(  # pylint: disable=protected-access\n\u001b[0;32m--> 764\u001b[0;31m             *args, **kwds))\n\u001b[0m\u001b[1;32m    765\u001b[0m \u001b[0;34m\u001b[0m\u001b[0m\n\u001b[1;32m    766\u001b[0m     \u001b[0;32mdef\u001b[0m \u001b[0minvalid_creator_scope\u001b[0m\u001b[0;34m(\u001b[0m\u001b[0;34m*\u001b[0m\u001b[0munused_args\u001b[0m\u001b[0;34m,\u001b[0m \u001b[0;34m**\u001b[0m\u001b[0munused_kwds\u001b[0m\u001b[0;34m)\u001b[0m\u001b[0;34m:\u001b[0m\u001b[0;34m\u001b[0m\u001b[0;34m\u001b[0m\u001b[0m\n",
            "\u001b[0;32m/usr/local/lib/python3.7/dist-packages/tensorflow/python/eager/function.py\u001b[0m in \u001b[0;36m_get_concrete_function_internal_garbage_collected\u001b[0;34m(self, *args, **kwargs)\u001b[0m\n\u001b[1;32m   3048\u001b[0m       \u001b[0margs\u001b[0m\u001b[0;34m,\u001b[0m \u001b[0mkwargs\u001b[0m \u001b[0;34m=\u001b[0m \u001b[0;32mNone\u001b[0m\u001b[0;34m,\u001b[0m \u001b[0;32mNone\u001b[0m\u001b[0;34m\u001b[0m\u001b[0;34m\u001b[0m\u001b[0m\n\u001b[1;32m   3049\u001b[0m     \u001b[0;32mwith\u001b[0m \u001b[0mself\u001b[0m\u001b[0;34m.\u001b[0m\u001b[0m_lock\u001b[0m\u001b[0;34m:\u001b[0m\u001b[0;34m\u001b[0m\u001b[0;34m\u001b[0m\u001b[0m\n\u001b[0;32m-> 3050\u001b[0;31m       \u001b[0mgraph_function\u001b[0m\u001b[0;34m,\u001b[0m \u001b[0m_\u001b[0m \u001b[0;34m=\u001b[0m \u001b[0mself\u001b[0m\u001b[0;34m.\u001b[0m\u001b[0m_maybe_define_function\u001b[0m\u001b[0;34m(\u001b[0m\u001b[0margs\u001b[0m\u001b[0;34m,\u001b[0m \u001b[0mkwargs\u001b[0m\u001b[0;34m)\u001b[0m\u001b[0;34m\u001b[0m\u001b[0;34m\u001b[0m\u001b[0m\n\u001b[0m\u001b[1;32m   3051\u001b[0m     \u001b[0;32mreturn\u001b[0m \u001b[0mgraph_function\u001b[0m\u001b[0;34m\u001b[0m\u001b[0;34m\u001b[0m\u001b[0m\n\u001b[1;32m   3052\u001b[0m \u001b[0;34m\u001b[0m\u001b[0m\n",
            "\u001b[0;32m/usr/local/lib/python3.7/dist-packages/tensorflow/python/eager/function.py\u001b[0m in \u001b[0;36m_maybe_define_function\u001b[0;34m(self, args, kwargs)\u001b[0m\n\u001b[1;32m   3442\u001b[0m \u001b[0;34m\u001b[0m\u001b[0m\n\u001b[1;32m   3443\u001b[0m           \u001b[0mself\u001b[0m\u001b[0;34m.\u001b[0m\u001b[0m_function_cache\u001b[0m\u001b[0;34m.\u001b[0m\u001b[0mmissed\u001b[0m\u001b[0;34m.\u001b[0m\u001b[0madd\u001b[0m\u001b[0;34m(\u001b[0m\u001b[0mcall_context_key\u001b[0m\u001b[0;34m)\u001b[0m\u001b[0;34m\u001b[0m\u001b[0;34m\u001b[0m\u001b[0m\n\u001b[0;32m-> 3444\u001b[0;31m           \u001b[0mgraph_function\u001b[0m \u001b[0;34m=\u001b[0m \u001b[0mself\u001b[0m\u001b[0;34m.\u001b[0m\u001b[0m_create_graph_function\u001b[0m\u001b[0;34m(\u001b[0m\u001b[0margs\u001b[0m\u001b[0;34m,\u001b[0m \u001b[0mkwargs\u001b[0m\u001b[0;34m)\u001b[0m\u001b[0;34m\u001b[0m\u001b[0;34m\u001b[0m\u001b[0m\n\u001b[0m\u001b[1;32m   3445\u001b[0m           \u001b[0mself\u001b[0m\u001b[0;34m.\u001b[0m\u001b[0m_function_cache\u001b[0m\u001b[0;34m.\u001b[0m\u001b[0mprimary\u001b[0m\u001b[0;34m[\u001b[0m\u001b[0mcache_key\u001b[0m\u001b[0;34m]\u001b[0m \u001b[0;34m=\u001b[0m \u001b[0mgraph_function\u001b[0m\u001b[0;34m\u001b[0m\u001b[0;34m\u001b[0m\u001b[0m\n\u001b[1;32m   3446\u001b[0m \u001b[0;34m\u001b[0m\u001b[0m\n",
            "\u001b[0;32m/usr/local/lib/python3.7/dist-packages/tensorflow/python/eager/function.py\u001b[0m in \u001b[0;36m_create_graph_function\u001b[0;34m(self, args, kwargs, override_flat_arg_shapes)\u001b[0m\n\u001b[1;32m   3287\u001b[0m             \u001b[0marg_names\u001b[0m\u001b[0;34m=\u001b[0m\u001b[0marg_names\u001b[0m\u001b[0;34m,\u001b[0m\u001b[0;34m\u001b[0m\u001b[0;34m\u001b[0m\u001b[0m\n\u001b[1;32m   3288\u001b[0m             \u001b[0moverride_flat_arg_shapes\u001b[0m\u001b[0;34m=\u001b[0m\u001b[0moverride_flat_arg_shapes\u001b[0m\u001b[0;34m,\u001b[0m\u001b[0;34m\u001b[0m\u001b[0;34m\u001b[0m\u001b[0m\n\u001b[0;32m-> 3289\u001b[0;31m             capture_by_value=self._capture_by_value),\n\u001b[0m\u001b[1;32m   3290\u001b[0m         \u001b[0mself\u001b[0m\u001b[0;34m.\u001b[0m\u001b[0m_function_attributes\u001b[0m\u001b[0;34m,\u001b[0m\u001b[0;34m\u001b[0m\u001b[0;34m\u001b[0m\u001b[0m\n\u001b[1;32m   3291\u001b[0m         \u001b[0mfunction_spec\u001b[0m\u001b[0;34m=\u001b[0m\u001b[0mself\u001b[0m\u001b[0;34m.\u001b[0m\u001b[0mfunction_spec\u001b[0m\u001b[0;34m,\u001b[0m\u001b[0;34m\u001b[0m\u001b[0;34m\u001b[0m\u001b[0m\n",
            "\u001b[0;32m/usr/local/lib/python3.7/dist-packages/tensorflow/python/framework/func_graph.py\u001b[0m in \u001b[0;36mfunc_graph_from_py_func\u001b[0;34m(name, python_func, args, kwargs, signature, func_graph, autograph, autograph_options, add_control_dependencies, arg_names, op_return_value, collections, capture_by_value, override_flat_arg_shapes)\u001b[0m\n\u001b[1;32m    997\u001b[0m         \u001b[0m_\u001b[0m\u001b[0;34m,\u001b[0m \u001b[0moriginal_func\u001b[0m \u001b[0;34m=\u001b[0m \u001b[0mtf_decorator\u001b[0m\u001b[0;34m.\u001b[0m\u001b[0munwrap\u001b[0m\u001b[0;34m(\u001b[0m\u001b[0mpython_func\u001b[0m\u001b[0;34m)\u001b[0m\u001b[0;34m\u001b[0m\u001b[0;34m\u001b[0m\u001b[0m\n\u001b[1;32m    998\u001b[0m \u001b[0;34m\u001b[0m\u001b[0m\n\u001b[0;32m--> 999\u001b[0;31m       \u001b[0mfunc_outputs\u001b[0m \u001b[0;34m=\u001b[0m \u001b[0mpython_func\u001b[0m\u001b[0;34m(\u001b[0m\u001b[0;34m*\u001b[0m\u001b[0mfunc_args\u001b[0m\u001b[0;34m,\u001b[0m \u001b[0;34m**\u001b[0m\u001b[0mfunc_kwargs\u001b[0m\u001b[0;34m)\u001b[0m\u001b[0;34m\u001b[0m\u001b[0;34m\u001b[0m\u001b[0m\n\u001b[0m\u001b[1;32m   1000\u001b[0m \u001b[0;34m\u001b[0m\u001b[0m\n\u001b[1;32m   1001\u001b[0m       \u001b[0;31m# invariant: `func_outputs` contains only Tensors, CompositeTensors,\u001b[0m\u001b[0;34m\u001b[0m\u001b[0;34m\u001b[0m\u001b[0;34m\u001b[0m\u001b[0m\n",
            "\u001b[0;32m/usr/local/lib/python3.7/dist-packages/tensorflow/python/eager/def_function.py\u001b[0m in \u001b[0;36mwrapped_fn\u001b[0;34m(*args, **kwds)\u001b[0m\n\u001b[1;32m    670\u001b[0m         \u001b[0;31m# the function a weak reference to itself to avoid a reference cycle.\u001b[0m\u001b[0;34m\u001b[0m\u001b[0;34m\u001b[0m\u001b[0;34m\u001b[0m\u001b[0m\n\u001b[1;32m    671\u001b[0m         \u001b[0;32mwith\u001b[0m \u001b[0mOptionalXlaContext\u001b[0m\u001b[0;34m(\u001b[0m\u001b[0mcompile_with_xla\u001b[0m\u001b[0;34m)\u001b[0m\u001b[0;34m:\u001b[0m\u001b[0;34m\u001b[0m\u001b[0;34m\u001b[0m\u001b[0m\n\u001b[0;32m--> 672\u001b[0;31m           \u001b[0mout\u001b[0m \u001b[0;34m=\u001b[0m \u001b[0mweak_wrapped_fn\u001b[0m\u001b[0;34m(\u001b[0m\u001b[0;34m)\u001b[0m\u001b[0;34m.\u001b[0m\u001b[0m__wrapped__\u001b[0m\u001b[0;34m(\u001b[0m\u001b[0;34m*\u001b[0m\u001b[0margs\u001b[0m\u001b[0;34m,\u001b[0m \u001b[0;34m**\u001b[0m\u001b[0mkwds\u001b[0m\u001b[0;34m)\u001b[0m\u001b[0;34m\u001b[0m\u001b[0;34m\u001b[0m\u001b[0m\n\u001b[0m\u001b[1;32m    673\u001b[0m         \u001b[0;32mreturn\u001b[0m \u001b[0mout\u001b[0m\u001b[0;34m\u001b[0m\u001b[0;34m\u001b[0m\u001b[0m\n\u001b[1;32m    674\u001b[0m \u001b[0;34m\u001b[0m\u001b[0m\n",
            "\u001b[0;32m/usr/local/lib/python3.7/dist-packages/tensorflow/python/framework/func_graph.py\u001b[0m in \u001b[0;36mwrapper\u001b[0;34m(*args, **kwargs)\u001b[0m\n\u001b[1;32m    984\u001b[0m           \u001b[0;32mexcept\u001b[0m \u001b[0mException\u001b[0m \u001b[0;32mas\u001b[0m \u001b[0me\u001b[0m\u001b[0;34m:\u001b[0m  \u001b[0;31m# pylint:disable=broad-except\u001b[0m\u001b[0;34m\u001b[0m\u001b[0;34m\u001b[0m\u001b[0m\n\u001b[1;32m    985\u001b[0m             \u001b[0;32mif\u001b[0m \u001b[0mhasattr\u001b[0m\u001b[0;34m(\u001b[0m\u001b[0me\u001b[0m\u001b[0;34m,\u001b[0m \u001b[0;34m\"ag_error_metadata\"\u001b[0m\u001b[0;34m)\u001b[0m\u001b[0;34m:\u001b[0m\u001b[0;34m\u001b[0m\u001b[0;34m\u001b[0m\u001b[0m\n\u001b[0;32m--> 986\u001b[0;31m               \u001b[0;32mraise\u001b[0m \u001b[0me\u001b[0m\u001b[0;34m.\u001b[0m\u001b[0mag_error_metadata\u001b[0m\u001b[0;34m.\u001b[0m\u001b[0mto_exception\u001b[0m\u001b[0;34m(\u001b[0m\u001b[0me\u001b[0m\u001b[0;34m)\u001b[0m\u001b[0;34m\u001b[0m\u001b[0;34m\u001b[0m\u001b[0m\n\u001b[0m\u001b[1;32m    987\u001b[0m             \u001b[0;32melse\u001b[0m\u001b[0;34m:\u001b[0m\u001b[0;34m\u001b[0m\u001b[0;34m\u001b[0m\u001b[0m\n\u001b[1;32m    988\u001b[0m               \u001b[0;32mraise\u001b[0m\u001b[0;34m\u001b[0m\u001b[0;34m\u001b[0m\u001b[0m\n",
            "\u001b[0;31mValueError\u001b[0m: in user code:\n\n    <ipython-input-27-251a73c3fb96>:8 axioms  *\n        p = ltn.variable(\"p\",tf.stack(list(g.values())))\n    /usr/local/lib/python3.7/dist-packages/tensorflow/python/util/dispatch.py:206 wrapper  **\n        return target(*args, **kwargs)\n    /usr/local/lib/python3.7/dist-packages/tensorflow/python/ops/array_ops.py:1423 stack\n        return gen_array_ops.pack(values, axis=axis, name=name)\n    /usr/local/lib/python3.7/dist-packages/tensorflow/python/ops/gen_array_ops.py:6418 pack\n        \"Pack\", values=values, axis=axis, name=name)\n    /usr/local/lib/python3.7/dist-packages/tensorflow/python/framework/op_def_library.py:750 _apply_op_helper\n        attrs=attr_protos, op_def=op_def)\n    /usr/local/lib/python3.7/dist-packages/tensorflow/python/framework/func_graph.py:601 _create_op_internal\n        compute_device)\n    /usr/local/lib/python3.7/dist-packages/tensorflow/python/framework/ops.py:3565 _create_op_internal\n        op_def=op_def)\n    /usr/local/lib/python3.7/dist-packages/tensorflow/python/framework/ops.py:2042 __init__\n        control_input_ops, op_def)\n    /usr/local/lib/python3.7/dist-packages/tensorflow/python/framework/ops.py:1883 _create_c_op\n        raise ValueError(str(e))\n\n    ValueError: Dimension 0 in both shapes must be equal, but are 10 and 2. Shapes are [10] and [2].\n    \tFrom merging shape 9 with other shapes. for '{{node stack_1}} = Pack[N=12, T=DT_FLOAT, axis=0](stack_1/ReadVariableOp, stack_1/ReadVariableOp_1, stack_1/ReadVariableOp_2, stack_1/ReadVariableOp_3, stack_1/ReadVariableOp_4, stack_1/ReadVariableOp_5, stack_1/ReadVariableOp_6, stack_1/ReadVariableOp_7, stack_1/ReadVariableOp_8, stack_1/ReadVariableOp_9, stack_1/ReadVariableOp_10, stack_1/ReadVariableOp_11)' with input shapes: [10], [10], [10], [10], [10], [10], [10], [10], [10], [10], [2], [2].\n"
          ]
        }
      ]
    }
  ]
}